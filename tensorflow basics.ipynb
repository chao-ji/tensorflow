{
 "cells": [
  {
   "cell_type": "code",
   "execution_count": 1,
   "metadata": {
    "collapsed": true
   },
   "outputs": [],
   "source": [
    "import tensorflow as tf\n",
    "import numpy as np\n",
    "\n",
    "sess = tf.Session()"
   ]
  },
  {
   "cell_type": "markdown",
   "metadata": {},
   "source": [
    "# Tensor, Variable, Operation\n",
    "\n",
    "These are the three basic building blocks of computation graphs in tensorflow"
   ]
  },
  {
   "cell_type": "markdown",
   "metadata": {},
   "source": [
    "# Tensor\n",
    "\n",
    "Initialize a session and a tensor **tr**"
   ]
  },
  {
   "cell_type": "code",
   "execution_count": 2,
   "metadata": {
    "collapsed": true
   },
   "outputs": [],
   "source": [
    "tr = tf.random_normal([2, 3], -2., 2.) # Definition, Tensor"
   ]
  },
  {
   "cell_type": "code",
   "execution_count": 3,
   "metadata": {
    "collapsed": false
   },
   "outputs": [
    {
     "data": {
      "text/plain": [
       "TensorShape([Dimension(2), Dimension(3)])"
      ]
     },
     "execution_count": 3,
     "metadata": {},
     "output_type": "execute_result"
    }
   ],
   "source": [
    "# print out shape of Tensor\n",
    "tr.get_shape()"
   ]
  },
  {
   "cell_type": "markdown",
   "metadata": {},
   "source": [
    "**tf**, when initialized, is only part of the computation graph. It won't be evaluated until the operations in the graph are executed."
   ]
  },
  {
   "cell_type": "code",
   "execution_count": 4,
   "metadata": {
    "collapsed": false
   },
   "outputs": [
    {
     "name": "stdout",
     "output_type": "stream",
     "text": [
      "[[ 0.2762928  -2.69166422 -3.40478659]\n",
      " [-2.78476477 -4.56543303 -2.75076532]]\n",
      "[[-3.32669592  0.24397206 -3.84729671]\n",
      " [ 0.21123004  1.46784687 -0.95309842]]\n"
     ]
    }
   ],
   "source": [
    "print tr.eval(session=sess) # Action\n",
    "# or equivalently\n",
    "print sess.run(tr) # Action"
   ]
  },
  {
   "cell_type": "markdown",
   "metadata": {},
   "source": [
    "# Variable\n",
    "\n",
    "Initial value of an Variable **e**"
   ]
  },
  {
   "cell_type": "code",
   "execution_count": 5,
   "metadata": {
    "collapsed": false
   },
   "outputs": [],
   "source": [
    "e = tf.Variable(np.exp(1), expected_shape=[], dtype=tf.float64) # Definition, Variable"
   ]
  },
  {
   "cell_type": "markdown",
   "metadata": {},
   "source": [
    "Before call **sess.run()** or **Variable.eval()**, we must perform the **Operation** that actually initializes **e** using the provided initial value."
   ]
  },
  {
   "cell_type": "code",
   "execution_count": 6,
   "metadata": {
    "collapsed": false
   },
   "outputs": [],
   "source": [
    "init = tf.global_variables_initializer() # Definition, Variable\n",
    "sess.run(init) # Action\n",
    "# Or equivalently\n",
    "sess.run(e.initializer) # Action"
   ]
  },
  {
   "cell_type": "code",
   "execution_count": 7,
   "metadata": {
    "collapsed": false
   },
   "outputs": [],
   "source": [
    "# Variable.initial_value is a tensor\n",
    "tr = e.initial_value \n",
    "# Use this when initial value of Var1 is dependent on another variable Var2"
   ]
  },
  {
   "cell_type": "code",
   "execution_count": 8,
   "metadata": {
    "collapsed": false
   },
   "outputs": [
    {
     "name": "stdout",
     "output_type": "stream",
     "text": [
      "2.71828182846\n",
      "2.71828182846\n"
     ]
    }
   ],
   "source": [
    "print e.eval(session=sess) # Action\n",
    "# or equivalently\n",
    "print sess.run(e) # Action"
   ]
  },
  {
   "cell_type": "code",
   "execution_count": 9,
   "metadata": {
    "collapsed": false
   },
   "outputs": [
    {
     "data": {
      "text/plain": [
       "TensorShape([])"
      ]
     },
     "execution_count": 9,
     "metadata": {},
     "output_type": "execute_result"
    }
   ],
   "source": [
    "# print out the shape of Variable \n",
    "e.get_shape()"
   ]
  },
  {
   "cell_type": "markdown",
   "metadata": {},
   "source": [
    "Concrete example from https://www.tensorflow.org/get_started/"
   ]
  },
  {
   "cell_type": "code",
   "execution_count": 10,
   "metadata": {
    "collapsed": false
   },
   "outputs": [
    {
     "name": "stdout",
     "output_type": "stream",
     "text": [
      "(0, array([-0.06282353], dtype=float32), array([ 0.5302766], dtype=float32))\n",
      "(20, array([ 0.04523178], dtype=float32), array([ 0.3290838], dtype=float32))\n",
      "(40, array([ 0.08651239], dtype=float32), array([ 0.30716237], dtype=float32))\n",
      "(60, array([ 0.09667846], dtype=float32), array([ 0.30176386], dtype=float32))\n",
      "(80, array([ 0.09918202], dtype=float32), array([ 0.30043438], dtype=float32))\n",
      "(100, array([ 0.09979857], dtype=float32), array([ 0.30010697], dtype=float32))\n",
      "(120, array([ 0.0999504], dtype=float32), array([ 0.30002636], dtype=float32))\n",
      "(140, array([ 0.0999878], dtype=float32), array([ 0.30000648], dtype=float32))\n",
      "(160, array([ 0.09999698], dtype=float32), array([ 0.30000162], dtype=float32))\n",
      "(180, array([ 0.09999925], dtype=float32), array([ 0.30000043], dtype=float32))\n",
      "(200, array([ 0.09999981], dtype=float32), array([ 0.3000001], dtype=float32))\n"
     ]
    }
   ],
   "source": [
    "# Create dataset\n",
    "x_data = np.random.rand(100).astype(np.float32)\n",
    "y_data = x_data * 0.1 + 0.3\n",
    "\n",
    "W = tf.Variable(tf.random_uniform([1], -1.0, 1.0)) # Definition, Varialbe\n",
    "b = tf.Variable(tf.zeros([1])) # Definition, Varialbe\n",
    "y = W * x_data + b # Definition, Tensor\n",
    "\n",
    "loss = tf.reduce_mean(tf.square(y - y_data)) # Definition, Tensor\n",
    "optimizer = tf.train.GradientDescentOptimizer(0.5)\n",
    "train = optimizer.minimize(loss) # Definition, Operation\n",
    "\n",
    "init = tf.global_variables_initializer() # Definition, Operation\n",
    "\n",
    "sess = tf.Session()\n",
    "sess.run(init) # Actually performs the initialization Operation on (`W` and `b`)\n",
    "\n",
    "\"\"\"\n",
    "Given the objective function `loss` (a Tensor) and the initialized Variables (`W` and `b`),\n",
    "the next step is to repeatedly perform the `train` Operation that minimize\n",
    "`loss` using GradientDecent\n",
    "\"\"\" \n",
    "\n",
    "for step in range(201):\n",
    "    sess.run(train)\n",
    "    if step % 20 == 0:\n",
    "        print(step, sess.run(W), sess.run(b)) # Dump the value of trained parameters\n"
   ]
  },
  {
   "cell_type": "code",
   "execution_count": 11,
   "metadata": {
    "collapsed": true
   },
   "outputs": [],
   "source": [
    "sess.close()"
   ]
  }
 ],
 "metadata": {
  "anaconda-cloud": {},
  "kernelspec": {
   "display_name": "Python [conda env:tensorflow]",
   "language": "python",
   "name": "conda-env-tensorflow-py"
  },
  "language_info": {
   "codemirror_mode": {
    "name": "ipython",
    "version": 2
   },
   "file_extension": ".py",
   "mimetype": "text/x-python",
   "name": "python",
   "nbconvert_exporter": "python",
   "pygments_lexer": "ipython2",
   "version": "2.7.13"
  }
 },
 "nbformat": 4,
 "nbformat_minor": 2
}
